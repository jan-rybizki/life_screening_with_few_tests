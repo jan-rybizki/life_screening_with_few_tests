{
 "cells": [
  {
   "cell_type": "markdown",
   "metadata": {},
   "source": [
    "# How can we screen the true contamination of the German population with only 100 tests, which would allow for a life screening?\n",
    "\n",
    "## Sunday 22nd March about 25k people were confirmed infected. Lets assume that the true number is 4 times higher, which would mean that 100k people are truly infected. Therefore 1 in 800 people is actually infected.\n",
    "\n",
    "if we only test single persons than the uncertainty of our measurement is quite high:"
   ]
  },
  {
   "cell_type": "code",
   "execution_count": 1,
   "metadata": {},
   "outputs": [
    {
     "name": "stdout",
     "output_type": "stream",
     "text": [
      "Populating the interactive namespace from numpy and matplotlib\n"
     ]
    }
   ],
   "source": [
    "%pylab inline"
   ]
  },
  {
   "cell_type": "code",
   "execution_count": 2,
   "metadata": {
    "collapsed": true
   },
   "outputs": [],
   "source": [
    "# Total population and number of infected people\n",
    "nPop = 80000000\n",
    "infected = 100000\n",
    "nNegative = nPop-infected\n",
    "# Create array and mix infected into the population\n",
    "positive = np.ones(infected)\n",
    "negative = np.zeros(nPop-infected)\n",
    "population = np.hstack((negative,positive))\n",
    "np.random.shuffle(population)"
   ]
  },
  {
   "cell_type": "code",
   "execution_count": 3,
   "metadata": {},
   "outputs": [
    {
     "name": "stdout",
     "output_type": "stream",
     "text": [
      "we repeat our 1000 probes test 10 times to see what results we get:\n",
      "0 0\n",
      "1 1\n",
      "2 0\n",
      "3 0\n",
      "4 0\n",
      "5 1\n",
      "6 2\n",
      "7 4\n",
      "8 0\n",
      "9 2\n"
     ]
    }
   ],
   "source": [
    "# Test 1000 times \n",
    "nTests = 10\n",
    "nProbes = 1000\n",
    "results = []\n",
    "print('we repeat our 1000 probes test 10 times to see what results we get:')\n",
    "for i in range(nTests):\n",
    "    # chose 1000 random people from the population\n",
    "    #test = np.random.choice(population, size=1000, replace = False) # TAKES TOO LONG\n",
    "    test = np.random.choice([0, 1], size=(nProbes,), p=[nNegative/nPop, infected/nPop])\n",
    "    # sum up the positive test results\n",
    "    positive = sum(test)\n",
    "    results.append(positive)\n",
    "    if i < 10:\n",
    "        print(i,positive)"
   ]
  },
  {
   "cell_type": "markdown",
   "metadata": {},
   "source": [
    "A single result is not very reliable and definitely not good enough to tell us that 1.25 in 1000 people are infected.\n",
    "\n",
    "Remember that each line here were 1000 tests.\n",
    "\n",
    "Now lets mix probes of 1000 people together and test that mixed probe whether it contains covid19:"
   ]
  },
  {
   "cell_type": "code",
   "execution_count": 4,
   "metadata": {},
   "outputs": [
    {
     "name": "stdout",
     "output_type": "stream",
     "text": [
      "first ten test results:\n",
      "0 1\n",
      "1 1\n",
      "2 0\n",
      "3 1\n",
      "4 1\n",
      "5 0\n",
      "6 1\n",
      "7 1\n",
      "8 0\n",
      "9 1\n",
      "after 100 such tests the probability converges towards:\n",
      "0.72\n"
     ]
    }
   ],
   "source": [
    "nTests = 100\n",
    "results = []\n",
    "print('first ten test results:')\n",
    "for i in range(nTests):\n",
    "    # chose 1000 random people from the population and mix their probes\n",
    "    test = np.random.choice([0, 1], size=(nProbes,), p=[nNegative/nPop, infected/nPop])\n",
    "    # if covid 19 is in neither of the probes then the single test will not see it\n",
    "    if sum(test) == 0:\n",
    "        positive = 0\n",
    "    # if covid 19 was in at least one of the probes the single test will be positive\n",
    "    else:\n",
    "        positive = 1\n",
    "    # sum up the positive test results\n",
    "    results.append(positive)\n",
    "    if i < 10:\n",
    "        print(i,positive)\n",
    "print('after %d such tests the probability converges towards:' %(nTests))\n",
    "print(sum(results)/nTests)"
   ]
  },
  {
   "cell_type": "markdown",
   "metadata": {},
   "source": [
    "This time each single line is only a single test, though it is used on a mix from 1000 probes.\n",
    "\n",
    "So after 100 tests we get a median test result. But how reliable is that? Lets look at the distribution of that number:"
   ]
  },
  {
   "cell_type": "code",
   "execution_count": 5,
   "metadata": {},
   "outputs": [
    {
     "name": "stdout",
     "output_type": "stream",
     "text": [
      "percentile of dist, result\n",
      "5 0.64\n",
      "16 0.68\n",
      "50 0.73\n",
      "84 0.76\n",
      "95 0.78\n"
     ]
    }
   ],
   "source": [
    "# Now lets see what the distribution of those results is\n",
    "result_dist = []\n",
    "nDist = 101\n",
    "for j in range(nDist):\n",
    "    results = []\n",
    "    for i in range(nTests):\n",
    "        # chose 1000 random people from the population and mix their probes\n",
    "        test = np.random.choice([0, 1], size=(nProbes,), p=[nNegative/nPop, infected/nPop])\n",
    "        # if covid 19 is in neither of the probes then the single test will not see it\n",
    "        if sum(test) == 0:\n",
    "            positive = 0\n",
    "        # if covid 19 was in at least one of the probes the single test will be positive\n",
    "        else:\n",
    "            positive = 1\n",
    "        # sum up the positive test results\n",
    "        results.append(positive)\n",
    "    result_dist.append(sum(results)/nTests)\n",
    "print('percentile of dist, result')\n",
    "for p in [5,16,50,84,95]:\n",
    "    print(p,np.percentile(result_dist,p))\n"
   ]
  },
  {
   "cell_type": "markdown",
   "metadata": {},
   "source": [
    "These values do not tell us the exact probability. But we can see how discriminative the test is against another number of infected people:"
   ]
  },
  {
   "cell_type": "code",
   "execution_count": 6,
   "metadata": {},
   "outputs": [
    {
     "name": "stdout",
     "output_type": "stream",
     "text": [
      "for 20% less infected people the distribution looks like this:\n",
      "percentile of dist, result\n",
      "5 0.53\n",
      "16 0.59\n",
      "50 0.64\n",
      "84 0.68\n",
      "95 0.7\n"
     ]
    }
   ],
   "source": [
    "# Lets do this for slightly different numbers: \n",
    "nPop = 80000000\n",
    "# 20% less of what we expect\n",
    "infected = 80000\n",
    "nNegative = nPop-infected\n",
    "# Now lets see what the distribution of those results is\n",
    "result_dist = []\n",
    "nDist = 101\n",
    "for j in range(nDist):\n",
    "    results = []\n",
    "    for i in range(nTests):\n",
    "        # chose 1000 random people from the population and mix their probes\n",
    "        test = np.random.choice([0, 1], size=(nProbes,), p=[nNegative/nPop, infected/nPop])\n",
    "        # if covid 19 is in neither of the probes then the single test will not see it\n",
    "        if sum(test) == 0:\n",
    "            positive = 0\n",
    "        # if covid 19 was in at least one of the probes the single test will be positive\n",
    "        else:\n",
    "            positive = 1\n",
    "        # sum up the positive test results\n",
    "        results.append(positive)\n",
    "    result_dist.append(sum(results)/nTests)\n",
    "print('for 20% less infected people the distribution looks like this:')\n",
    "print('percentile of dist, result')\n",
    "for p in [5,16,50,84,95]:\n",
    "    print(p,np.percentile(result_dist,p))\n"
   ]
  },
  {
   "cell_type": "code",
   "execution_count": 7,
   "metadata": {},
   "outputs": [
    {
     "name": "stdout",
     "output_type": "stream",
     "text": [
      "for 20% more infected people the distribution looks like this:\n",
      "percentile of dist, result\n",
      "5 0.71\n",
      "16 0.73\n",
      "50 0.78\n",
      "84 0.81\n",
      "95 0.86\n"
     ]
    }
   ],
   "source": [
    "# Lets do this for slightly different numbers: \n",
    "nPop = 80000000\n",
    "# 20% more of what we expect\n",
    "infected = 120000\n",
    "nNegative = nPop-infected\n",
    "# Now lets see what the distribution of those results is\n",
    "result_dist = []\n",
    "nDist = 101\n",
    "for j in range(nDist):\n",
    "    results = []\n",
    "    for i in range(nTests):\n",
    "        # chose 1000 random people from the population and mix their probes\n",
    "        test = np.random.choice([0, 1], size=(nProbes,), p=[nNegative/nPop, infected/nPop])\n",
    "        # if covid 19 is in neither of the probes then the single test will not see it\n",
    "        if sum(test) == 0:\n",
    "            positive = 0\n",
    "        # if covid 19 was in at least one of the probes the single test will be positive\n",
    "        else:\n",
    "            positive = 1\n",
    "        # sum up the positive test results\n",
    "        results.append(positive)\n",
    "    result_dist.append(sum(results)/nTests)\n",
    "print('for 20% more infected people the distribution looks like this:')\n",
    "print('percentile of dist, result')\n",
    "for p in [5,16,50,84,95]:\n",
    "    print(p,np.percentile(result_dist,p))\n"
   ]
  },
  {
   "cell_type": "markdown",
   "metadata": {},
   "source": [
    "We see that with 100 tests (that is applied to 100k people's probes) we can infer the true rate of infection of Germany to within 20% with a 1sigma uncertainty, (if our initial guess of the true number of infected people is not too far off)."
   ]
  }
 ],
 "metadata": {
  "kernelspec": {
   "display_name": "Python 3",
   "language": "python",
   "name": "python3"
  },
  "language_info": {
   "codemirror_mode": {
    "name": "ipython",
    "version": 3
   },
   "file_extension": ".py",
   "mimetype": "text/x-python",
   "name": "python",
   "nbconvert_exporter": "python",
   "pygments_lexer": "ipython3",
   "version": "3.6.3"
  }
 },
 "nbformat": 4,
 "nbformat_minor": 2
}
